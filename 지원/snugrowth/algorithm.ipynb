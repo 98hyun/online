{
 "cells": [
  {
   "cell_type": "markdown",
   "metadata": {},
   "source": [
    "# 1번"
   ]
  },
  {
   "cell_type": "code",
   "execution_count": 1,
   "metadata": {},
   "outputs": [],
   "source": [
    "from itertools import combinations\n",
    "\n",
    "def prime(n):\n",
    "    if n<=1:\n",
    "        return False\n",
    "    for i in range(2,int(n**0.5)+1):\n",
    "        if n%i==0:\n",
    "            return False\n",
    "    return True\n",
    "\n",
    "def chain():\n",
    "    \n",
    "    x=int(input())\n",
    "    n=str(x)\n",
    "    length=len(n)\n",
    "    answer=[]\n",
    "    answers=[]\n",
    "\n",
    "    for i in range(1,length+1):\n",
    "        answer.extend(combinations(n,i))\n",
    "\n",
    "    for i in answer:\n",
    "        if len(i)==1:\n",
    "            answers.append(i[0])\n",
    "        else:\n",
    "            answers.append(''.join(i))\n",
    "\n",
    "    answers=[int(a) for a in answers]\n",
    "\n",
    "    return all(prime(i) for i in answers)"
   ]
  },
  {
   "cell_type": "code",
   "execution_count": 2,
   "metadata": {},
   "outputs": [
    {
     "name": "stdout",
     "output_type": "stream",
     "text": [
      "23\n"
     ]
    },
    {
     "data": {
      "text/plain": [
       "True"
      ]
     },
     "execution_count": 2,
     "metadata": {},
     "output_type": "execute_result"
    }
   ],
   "source": [
    "## 입력 23\n",
    "\n",
    "chain()"
   ]
  },
  {
   "cell_type": "markdown",
   "metadata": {},
   "source": [
    "# 2번"
   ]
  },
  {
   "cell_type": "code",
   "execution_count": 3,
   "metadata": {},
   "outputs": [],
   "source": [
    "# 출력\n",
    "import random \n",
    "\n",
    "rands=set()\n",
    "dic_=dict()\n",
    "\n",
    "def input_():\n",
    "    a=input().split(',')\n",
    "    a[0]=a[0].replace(\"'\",\"\")\n",
    "    a[2]=a[2].replace(\"'\",\"\")\n",
    "    if a[1]==\"'학부'\":\n",
    "        a[1]='1'\n",
    "    elif a[1]==\"'석사'\":\n",
    "        a[1]='2'\n",
    "    else:\n",
    "        a[1]='3'\n",
    "    return a\n",
    "\n",
    "def rand():\n",
    "    b=random.randint(0,9999) # 수정\n",
    "    if b<1000:               #\n",
    "        b=str(b).zfill(4)    #\n",
    "    else:                    #\n",
    "        b=str(b)             # \n",
    "\n",
    "    if b in rands:\n",
    "        return rand()\n",
    "    else:\n",
    "        rands.add(b)\n",
    "        return b\n",
    "\n",
    "def dic():\n",
    "    \n",
    "    a=input_() \n",
    "    b=rand()\n",
    "    \n",
    "    answer=a[0]+'-'+str(a[1])+b    # 수정 \n",
    "    \n",
    "    dic_[answer]=a[2]\n",
    "    \n",
    "    return dic_"
   ]
  },
  {
   "cell_type": "code",
   "execution_count": 4,
   "metadata": {},
   "outputs": [],
   "source": [
    "## 입력 \n",
    "## '2019','학부','김그로스'  혹은 \n",
    "## '2020','석사','김해커'"
   ]
  },
  {
   "cell_type": "code",
   "execution_count": 5,
   "metadata": {},
   "outputs": [
    {
     "name": "stdout",
     "output_type": "stream",
     "text": [
      "'2019','학부','김그로스'\n"
     ]
    },
    {
     "data": {
      "text/plain": [
       "{'2019-16494': '김그로스'}"
      ]
     },
     "execution_count": 5,
     "metadata": {},
     "output_type": "execute_result"
    }
   ],
   "source": [
    "dic()"
   ]
  }
 ],
 "metadata": {
  "kernelspec": {
   "display_name": "Python 3",
   "language": "python",
   "name": "python3"
  },
  "language_info": {
   "codemirror_mode": {
    "name": "ipython",
    "version": 3
   },
   "file_extension": ".py",
   "mimetype": "text/x-python",
   "name": "python",
   "nbconvert_exporter": "python",
   "pygments_lexer": "ipython3",
   "version": "3.7.7"
  }
 },
 "nbformat": 4,
 "nbformat_minor": 4
}
