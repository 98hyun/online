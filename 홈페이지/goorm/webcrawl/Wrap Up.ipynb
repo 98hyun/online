{
 "cells": [
  {
   "cell_type": "raw",
   "metadata": {},
   "source": [
    "웹 스크래핑과 웹 크롤링의 차이 "
   ]
  },
  {
   "cell_type": "markdown",
   "metadata": {},
   "source": [
    "html 뼈대 css 예쁘게 javascripts 살아있게"
   ]
  },
  {
   "cell_type": "markdown",
   "metadata": {},
   "source": [
    "XPATH 고유한 element의 특징 경로."
   ]
  },
  {
   "cell_type": "markdown",
   "metadata": {},
   "source": [
    "쉽게 chrome 개발자도구에서 찾을 수 있다."
   ]
  },
  {
   "cell_type": "markdown",
   "metadata": {},
   "source": [
    "정규식  \n",
    "\n",
    "규칙을 가진 문자열을 표현하는것.\n",
    "\n",
    "(ca.e) 하나의 문자    \n",
    "(^ca) 시작하는 문자  \n",
    "(ca$) 끝나는 문자  \n",
    "\n",
    "match 처음부터 일치하는지    \n",
    "serach 일치하는것 있는지   \n",
    "findall 일치하는것 모두 리스트  "
   ]
  },
  {
   "cell_type": "markdown",
   "metadata": {},
   "source": [
    "user-agent 사람인지?"
   ]
  },
  {
   "cell_type": "markdown",
   "metadata": {},
   "source": [
    "requests 빠르게 읽기 selenium 동적인 움직임을 할 수 있지만 느리다.   \n",
    "\n",
    "둘을 이용하는게 beautifulsoup  "
   ]
  },
  {
   "cell_type": "markdown",
   "metadata": {},
   "source": [
    "requests.raise_for_status() 로 에러를 알 수 있다. "
   ]
  },
  {
   "cell_type": "markdown",
   "metadata": {},
   "source": [
    "selenium 에서 찾는 요건은   \n",
    "\n",
    "find_element(s)_by_id , css_selector, by_link_text , by_xpath 등을 찾을 수 있다.  \n",
    "\n",
    "click() 과 send_keys() 로 동적인 구현 가능.  \n",
    "\n",
    "때로는 기다리기 위해서 WebdriverWait(browser,10(s)).until(EC.presence_of_located((By.XPATH,'xpath'))) 사용한다.  \n",
    "\n",
    "scroll 내리는 것은 browser.execute_script('window.scrollTo(start,document.body.scrollHeight))으로 가능.   \n",
    "\n",
    "while 문으로 반복 time 과 함께.  return document.body.scrollHeight 으로 현재 마지막 높이를 알 수 있다.  \n"
   ]
  },
  {
   "cell_type": "markdown",
   "metadata": {},
   "source": [
    "beautifulsoup  \n",
    "\n",
    "find 한개  \n",
    "find_all 여러개 리스트   \n",
    "find_next_sibling(parent) \n",
    "find_previous_sibling   \n",
    "\n",
    "soup.a['href']   \n",
    "soup.a.get_text()    "
   ]
  },
  {
   "cell_type": "markdown",
   "metadata": {},
   "source": [
    "image 파일 쓰기   \n",
    "\n",
    "with open(file,mode='wb') as f:\n",
    "    f.write(data.content)\n",
    "    \n",
    "    \n",
    "csv 파일 쓰기  \n",
    "\n",
    "import csv \n",
    "\n",
    "f=open(file,encoding='utf-8-sig',mode='w',newlines='')\n",
    "\n"
   ]
  },
  {
   "cell_type": "markdown",
   "metadata": {},
   "source": [
    "robots.txt 확인 잘하고   \n",
    "\n",
    "서버 부담안가게   \n",
    "\n",
    "ip 차단 안당하게 "
   ]
  }
 ],
 "metadata": {
  "kernelspec": {
   "display_name": "Python 3",
   "language": "python",
   "name": "python3"
  },
  "language_info": {
   "codemirror_mode": {
    "name": "ipython",
    "version": 3
   },
   "file_extension": ".py",
   "mimetype": "text/x-python",
   "name": "python",
   "nbconvert_exporter": "python",
   "pygments_lexer": "ipython3",
   "version": "3.7.9"
  }
 },
 "nbformat": 4,
 "nbformat_minor": 4
}
